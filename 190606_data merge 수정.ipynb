{
 "cells": [
  {
   "cell_type": "code",
   "execution_count": 7,
   "metadata": {},
   "outputs": [
    {
     "data": {
      "text/plain": [
       "'C:\\\\대학원\\\\2019-1\\\\1.전공\\\\2.데이터마이닝\\\\project\\\\도로\\\\result'"
      ]
     },
     "execution_count": 7,
     "metadata": {},
     "output_type": "execute_result"
    }
   ],
   "source": [
    "import os\n",
    "\n",
    "os.chdir('C:/대학원/2019-1/1.전공/2.데이터마이닝/project/도로/result')\n",
    "os.getcwd()"
   ]
  },
  {
   "cell_type": "code",
   "execution_count": 34,
   "metadata": {},
   "outputs": [],
   "source": [
    "import pandas as pd\n",
    "import numpy as np\n",
    "\n",
    "doro_id = pd.read_csv('doro_total.csv',encoding='utf8')\n",
    "weather = pd.read_csv('weather_merged.csv')\n",
    "car2 = pd.read_csv('doro02.csv')\n",
    "car5 = pd.read_csv('doro05.csv')\n",
    "car8 = pd.read_csv('doro08.csv')\n",
    "car11 = pd.read_csv('doro11.csv')\n",
    "car3 = pd.read_csv('doro03.csv')\n",
    "car6 = pd.read_csv('doro06.csv')"
   ]
  },
  {
   "cell_type": "code",
   "execution_count": 35,
   "metadata": {},
   "outputs": [
    {
     "name": "stdout",
     "output_type": "stream",
     "text": [
      "32\n",
      "35\n",
      "36\n",
      "36\n",
      "32\n",
      "35\n"
     ]
    }
   ],
   "source": [
    "print(len(car2.columns))\n",
    "print(len(car5.columns))\n",
    "print(len(car8.columns))\n",
    "print(len(car11.columns))\n",
    "print(len(car3.columns))\n",
    "print(len(car6.columns))"
   ]
  },
  {
   "cell_type": "markdown",
   "metadata": {},
   "source": [
    "## 1. 시간 설정\n",
    "- 오전 11시 ~ 오후 11시(23시)"
   ]
  },
  {
   "cell_type": "code",
   "execution_count": 36,
   "metadata": {},
   "outputs": [],
   "source": [
    "drop_col = ['01시', '02시', '03시', '04시', '05시', '06시','07시','08시','09시','10시','11시', '24시']\n",
    "car2.drop(drop_col, axis=1, inplace=True)\n",
    "car5.drop(drop_col, axis=1, inplace=True)\n",
    "car8.drop(drop_col, axis=1, inplace=True)\n",
    "car11.drop(drop_col, axis=1, inplace=True)\n",
    "car6.drop(drop_col, axis=1, inplace=True)\n",
    "car3.drop(drop_col, axis=1, inplace=True)"
   ]
  },
  {
   "cell_type": "code",
   "execution_count": 37,
   "metadata": {},
   "outputs": [
    {
     "data": {
      "text/html": [
       "<div>\n",
       "<style scoped>\n",
       "    .dataframe tbody tr th:only-of-type {\n",
       "        vertical-align: middle;\n",
       "    }\n",
       "\n",
       "    .dataframe tbody tr th {\n",
       "        vertical-align: top;\n",
       "    }\n",
       "\n",
       "    .dataframe thead th {\n",
       "        text-align: right;\n",
       "    }\n",
       "</style>\n",
       "<table border=\"1\" class=\"dataframe\">\n",
       "  <thead>\n",
       "    <tr style=\"text-align: right;\">\n",
       "      <th></th>\n",
       "      <th>일자</th>\n",
       "      <th>요일</th>\n",
       "      <th>도로명</th>\n",
       "      <th>링크아이디</th>\n",
       "      <th>시점명</th>\n",
       "      <th>종점명</th>\n",
       "      <th>방향</th>\n",
       "      <th>거리</th>\n",
       "      <th>12시</th>\n",
       "      <th>13시</th>\n",
       "      <th>14시</th>\n",
       "      <th>15시</th>\n",
       "      <th>16시</th>\n",
       "      <th>17시</th>\n",
       "      <th>18시</th>\n",
       "      <th>19시</th>\n",
       "      <th>20시</th>\n",
       "      <th>21시</th>\n",
       "      <th>22시</th>\n",
       "      <th>23시</th>\n",
       "    </tr>\n",
       "  </thead>\n",
       "  <tbody>\n",
       "    <tr>\n",
       "      <th>0</th>\n",
       "      <td>20180301</td>\n",
       "      <td>목</td>\n",
       "      <td>4.19로</td>\n",
       "      <td>1080012200</td>\n",
       "      <td>아카데미하우스</td>\n",
       "      <td>국립4.19묘지</td>\n",
       "      <td>상행</td>\n",
       "      <td>1179</td>\n",
       "      <td>42.37</td>\n",
       "      <td>47.96</td>\n",
       "      <td>38.14</td>\n",
       "      <td>42.87</td>\n",
       "      <td>38.06</td>\n",
       "      <td>58.18</td>\n",
       "      <td>51.15</td>\n",
       "      <td>36.77</td>\n",
       "      <td>41.63</td>\n",
       "      <td>33.90</td>\n",
       "      <td>52.31</td>\n",
       "      <td>47.89</td>\n",
       "    </tr>\n",
       "    <tr>\n",
       "      <th>1</th>\n",
       "      <td>20180301</td>\n",
       "      <td>목</td>\n",
       "      <td>4.19로</td>\n",
       "      <td>1080012800</td>\n",
       "      <td>국립4.19묘지</td>\n",
       "      <td>국립4.19묘지입구</td>\n",
       "      <td>상행</td>\n",
       "      <td>352</td>\n",
       "      <td>15.65</td>\n",
       "      <td>14.48</td>\n",
       "      <td>9.71</td>\n",
       "      <td>10.84</td>\n",
       "      <td>12.05</td>\n",
       "      <td>13.41</td>\n",
       "      <td>12.84</td>\n",
       "      <td>14.27</td>\n",
       "      <td>13.19</td>\n",
       "      <td>12.92</td>\n",
       "      <td>16.31</td>\n",
       "      <td>17.11</td>\n",
       "    </tr>\n",
       "  </tbody>\n",
       "</table>\n",
       "</div>"
      ],
      "text/plain": [
       "         일자 요일    도로명       링크아이디       시점명         종점명  방향    거리    12시  \\\n",
       "0  20180301  목  4.19로  1080012200   아카데미하우스    국립4.19묘지  상행  1179  42.37   \n",
       "1  20180301  목  4.19로  1080012800  국립4.19묘지  국립4.19묘지입구  상행   352  15.65   \n",
       "\n",
       "     13시    14시    15시    16시    17시    18시    19시    20시    21시    22시    23시  \n",
       "0  47.96  38.14  42.87  38.06  58.18  51.15  36.77  41.63  33.90  52.31  47.89  \n",
       "1  14.48   9.71  10.84  12.05  13.41  12.84  14.27  13.19  12.92  16.31  17.11  "
      ]
     },
     "execution_count": 37,
     "metadata": {},
     "output_type": "execute_result"
    }
   ],
   "source": [
    "car3.head(2)"
   ]
  },
  {
   "cell_type": "code",
   "execution_count": 12,
   "metadata": {},
   "outputs": [
    {
     "data": {
      "text/html": [
       "<div>\n",
       "<style scoped>\n",
       "    .dataframe tbody tr th:only-of-type {\n",
       "        vertical-align: middle;\n",
       "    }\n",
       "\n",
       "    .dataframe tbody tr th {\n",
       "        vertical-align: top;\n",
       "    }\n",
       "\n",
       "    .dataframe thead th {\n",
       "        text-align: right;\n",
       "    }\n",
       "</style>\n",
       "<table border=\"1\" class=\"dataframe\">\n",
       "  <thead>\n",
       "    <tr style=\"text-align: right;\">\n",
       "      <th></th>\n",
       "      <th>일자</th>\n",
       "      <th>요일</th>\n",
       "      <th>도로명</th>\n",
       "      <th>링크아이디</th>\n",
       "      <th>시점명</th>\n",
       "      <th>종점명</th>\n",
       "      <th>방향</th>\n",
       "      <th>거리</th>\n",
       "      <th>기능유형구분</th>\n",
       "      <th>도심/외곽구분</th>\n",
       "      <th>...</th>\n",
       "      <th>14시</th>\n",
       "      <th>15시</th>\n",
       "      <th>16시</th>\n",
       "      <th>17시</th>\n",
       "      <th>18시</th>\n",
       "      <th>19시</th>\n",
       "      <th>20시</th>\n",
       "      <th>21시</th>\n",
       "      <th>22시</th>\n",
       "      <th>23시</th>\n",
       "    </tr>\n",
       "  </thead>\n",
       "  <tbody>\n",
       "    <tr>\n",
       "      <th>0</th>\n",
       "      <td>20180601</td>\n",
       "      <td>금</td>\n",
       "      <td>4.19로</td>\n",
       "      <td>1080012200</td>\n",
       "      <td>아카데미하우스</td>\n",
       "      <td>국립4.19묘지</td>\n",
       "      <td>상행</td>\n",
       "      <td>1179</td>\n",
       "      <td>보조간선도로</td>\n",
       "      <td>외곽</td>\n",
       "      <td>...</td>\n",
       "      <td>35.69</td>\n",
       "      <td>40.12</td>\n",
       "      <td>35.62</td>\n",
       "      <td>54.45</td>\n",
       "      <td>47.86</td>\n",
       "      <td>34.41</td>\n",
       "      <td>38.96</td>\n",
       "      <td>31.72</td>\n",
       "      <td>48.95</td>\n",
       "      <td>44.81</td>\n",
       "    </tr>\n",
       "    <tr>\n",
       "      <th>1</th>\n",
       "      <td>20180601</td>\n",
       "      <td>금</td>\n",
       "      <td>4.19로</td>\n",
       "      <td>1080012800</td>\n",
       "      <td>국립4.19묘지</td>\n",
       "      <td>국립4.19묘지입구</td>\n",
       "      <td>상행</td>\n",
       "      <td>352</td>\n",
       "      <td>보조간선도로</td>\n",
       "      <td>외곽</td>\n",
       "      <td>...</td>\n",
       "      <td>12.61</td>\n",
       "      <td>8.02</td>\n",
       "      <td>10.43</td>\n",
       "      <td>12.66</td>\n",
       "      <td>11.46</td>\n",
       "      <td>8.89</td>\n",
       "      <td>12.55</td>\n",
       "      <td>14.08</td>\n",
       "      <td>13.61</td>\n",
       "      <td>13.73</td>\n",
       "    </tr>\n",
       "  </tbody>\n",
       "</table>\n",
       "<p>2 rows × 23 columns</p>\n",
       "</div>"
      ],
      "text/plain": [
       "         일자 요일    도로명       링크아이디       시점명         종점명  방향    거리  기능유형구분  \\\n",
       "0  20180601  금  4.19로  1080012200   아카데미하우스    국립4.19묘지  상행  1179  보조간선도로   \n",
       "1  20180601  금  4.19로  1080012800  국립4.19묘지  국립4.19묘지입구  상행   352  보조간선도로   \n",
       "\n",
       "  도심/외곽구분  ...      14시    15시    16시    17시    18시    19시    20시    21시  \\\n",
       "0      외곽  ...    35.69  40.12  35.62  54.45  47.86  34.41  38.96  31.72   \n",
       "1      외곽  ...    12.61   8.02  10.43  12.66  11.46   8.89  12.55  14.08   \n",
       "\n",
       "     22시    23시  \n",
       "0  48.95  44.81  \n",
       "1  13.61  13.73  \n",
       "\n",
       "[2 rows x 23 columns]"
      ]
     },
     "execution_count": 12,
     "metadata": {},
     "output_type": "execute_result"
    }
   ],
   "source": [
    "car6.head(2)"
   ]
  },
  {
   "cell_type": "code",
   "execution_count": 30,
   "metadata": {},
   "outputs": [
    {
     "data": {
      "text/html": [
       "<div>\n",
       "<style scoped>\n",
       "    .dataframe tbody tr th:only-of-type {\n",
       "        vertical-align: middle;\n",
       "    }\n",
       "\n",
       "    .dataframe tbody tr th {\n",
       "        vertical-align: top;\n",
       "    }\n",
       "\n",
       "    .dataframe thead th {\n",
       "        text-align: right;\n",
       "    }\n",
       "</style>\n",
       "<table border=\"1\" class=\"dataframe\">\n",
       "  <thead>\n",
       "    <tr style=\"text-align: right;\">\n",
       "      <th></th>\n",
       "      <th>date</th>\n",
       "      <th>days</th>\n",
       "      <th>road_name</th>\n",
       "      <th>link_id</th>\n",
       "      <th>start_point</th>\n",
       "      <th>end_point</th>\n",
       "      <th>direction</th>\n",
       "      <th>road_length</th>\n",
       "      <th>t12</th>\n",
       "      <th>t13</th>\n",
       "      <th>...</th>\n",
       "      <th>t19</th>\n",
       "      <th>t20</th>\n",
       "      <th>t21</th>\n",
       "      <th>t22</th>\n",
       "      <th>t23</th>\n",
       "      <th>road_num_x</th>\n",
       "      <th>road_num_y</th>\n",
       "      <th>road_type</th>\n",
       "      <th>urban_suburb</th>\n",
       "      <th>district</th>\n",
       "    </tr>\n",
       "  </thead>\n",
       "  <tbody>\n",
       "    <tr>\n",
       "      <th>0</th>\n",
       "      <td>20180301</td>\n",
       "      <td>목</td>\n",
       "      <td>4.19로</td>\n",
       "      <td>1080012800</td>\n",
       "      <td>국립4.19묘지</td>\n",
       "      <td>국립4.19묘지입구</td>\n",
       "      <td>상행</td>\n",
       "      <td>352</td>\n",
       "      <td>15.65</td>\n",
       "      <td>14.48</td>\n",
       "      <td>...</td>\n",
       "      <td>14.27</td>\n",
       "      <td>13.19</td>\n",
       "      <td>12.92</td>\n",
       "      <td>16.31</td>\n",
       "      <td>17.11</td>\n",
       "      <td>1</td>\n",
       "      <td>1</td>\n",
       "      <td>보조간선도로</td>\n",
       "      <td>외곽</td>\n",
       "      <td>강북구</td>\n",
       "    </tr>\n",
       "    <tr>\n",
       "      <th>1</th>\n",
       "      <td>20180302</td>\n",
       "      <td>금</td>\n",
       "      <td>4.19로</td>\n",
       "      <td>1080012800</td>\n",
       "      <td>국립4.19묘지</td>\n",
       "      <td>국립4.19묘지입구</td>\n",
       "      <td>상행</td>\n",
       "      <td>352</td>\n",
       "      <td>12.43</td>\n",
       "      <td>12.39</td>\n",
       "      <td>...</td>\n",
       "      <td>14.01</td>\n",
       "      <td>13.43</td>\n",
       "      <td>12.89</td>\n",
       "      <td>13.89</td>\n",
       "      <td>16.18</td>\n",
       "      <td>1</td>\n",
       "      <td>1</td>\n",
       "      <td>보조간선도로</td>\n",
       "      <td>외곽</td>\n",
       "      <td>강북구</td>\n",
       "    </tr>\n",
       "  </tbody>\n",
       "</table>\n",
       "<p>2 rows × 25 columns</p>\n",
       "</div>"
      ],
      "text/plain": [
       "       date days road_name     link_id start_point   end_point direction  \\\n",
       "0  20180301    목     4.19로  1080012800    국립4.19묘지  국립4.19묘지입구        상행   \n",
       "1  20180302    금     4.19로  1080012800    국립4.19묘지  국립4.19묘지입구        상행   \n",
       "\n",
       "   road_length    t12    t13    ...       t19    t20    t21    t22    t23  \\\n",
       "0          352  15.65  14.48    ...     14.27  13.19  12.92  16.31  17.11   \n",
       "1          352  12.43  12.39    ...     14.01  13.43  12.89  13.89  16.18   \n",
       "\n",
       "   road_num_x  road_num_y  road_type  urban_suburb  district  \n",
       "0           1           1     보조간선도로            외곽       강북구  \n",
       "1           1           1     보조간선도로            외곽       강북구  \n",
       "\n",
       "[2 rows x 25 columns]"
      ]
     },
     "execution_count": 30,
     "metadata": {},
     "output_type": "execute_result"
    }
   ],
   "source": [
    "car3.head(2)"
   ]
  },
  {
   "cell_type": "code",
   "execution_count": 38,
   "metadata": {},
   "outputs": [],
   "source": [
    "car2.columns = ['date','days','road_name','link_id','start_point','end_point','direction','road_length','t12','t13','t14','t15','t16','t17','t18','t19','t20','t21','t22','t23']\n",
    "car5.columns = ['date','days','road_name','link_id','start_point','end_point','direction','road_length','road_type','urban_suburb','district','t12','t13','t14','t15','t16','t17','t18','t19','t20','t21','t22','t23']\n",
    "car8.columns = ['date','days','road_name','link_id','start_point','end_point','direction','road_length','road_num','road_type','urban_suburb','district','t12','t13','t14','t15','t16','t17','t18','t19','t20','t21','t22','t23']\n",
    "car11.columns = ['date','days','road_name','link_id','start_point','end_point','direction','road_length','road_num','road_type','urban_suburb','district','t12','t13','t14','t15','t16','t17','t18','t19','t20','t21','t22','t23']\n",
    "car3.columns = ['date','days','road_name','link_id','start_point','end_point','direction','road_length','t12','t13','t14','t15','t16','t17','t18','t19','t20','t21','t22','t23']\n",
    "car6.columns = ['date','days','road_name','link_id','start_point','end_point','direction','road_length','road_type','urban_suburb','district','t12','t13','t14','t15','t16','t17','t18','t19','t20','t21','t22','t23']"
   ]
  },
  {
   "cell_type": "code",
   "execution_count": 15,
   "metadata": {},
   "outputs": [
    {
     "data": {
      "text/html": [
       "<div>\n",
       "<style scoped>\n",
       "    .dataframe tbody tr th:only-of-type {\n",
       "        vertical-align: middle;\n",
       "    }\n",
       "\n",
       "    .dataframe tbody tr th {\n",
       "        vertical-align: top;\n",
       "    }\n",
       "\n",
       "    .dataframe thead th {\n",
       "        text-align: right;\n",
       "    }\n",
       "</style>\n",
       "<table border=\"1\" class=\"dataframe\">\n",
       "  <thead>\n",
       "    <tr style=\"text-align: right;\">\n",
       "      <th></th>\n",
       "      <th>date</th>\n",
       "      <th>days</th>\n",
       "      <th>road_name</th>\n",
       "      <th>link_id</th>\n",
       "      <th>start_point</th>\n",
       "      <th>end_point</th>\n",
       "      <th>direction</th>\n",
       "      <th>road_length</th>\n",
       "      <th>road_type</th>\n",
       "      <th>urban_suburb</th>\n",
       "      <th>...</th>\n",
       "      <th>t14</th>\n",
       "      <th>t15</th>\n",
       "      <th>t16</th>\n",
       "      <th>t17</th>\n",
       "      <th>t18</th>\n",
       "      <th>t19</th>\n",
       "      <th>t20</th>\n",
       "      <th>t21</th>\n",
       "      <th>t22</th>\n",
       "      <th>t23</th>\n",
       "    </tr>\n",
       "  </thead>\n",
       "  <tbody>\n",
       "    <tr>\n",
       "      <th>0</th>\n",
       "      <td>20180601</td>\n",
       "      <td>금</td>\n",
       "      <td>4.19로</td>\n",
       "      <td>1080012200</td>\n",
       "      <td>아카데미하우스</td>\n",
       "      <td>국립4.19묘지</td>\n",
       "      <td>상행</td>\n",
       "      <td>1179</td>\n",
       "      <td>보조간선도로</td>\n",
       "      <td>외곽</td>\n",
       "      <td>...</td>\n",
       "      <td>35.69</td>\n",
       "      <td>40.12</td>\n",
       "      <td>35.62</td>\n",
       "      <td>54.45</td>\n",
       "      <td>47.86</td>\n",
       "      <td>34.41</td>\n",
       "      <td>38.96</td>\n",
       "      <td>31.72</td>\n",
       "      <td>48.95</td>\n",
       "      <td>44.81</td>\n",
       "    </tr>\n",
       "  </tbody>\n",
       "</table>\n",
       "<p>1 rows × 23 columns</p>\n",
       "</div>"
      ],
      "text/plain": [
       "       date days road_name     link_id start_point end_point direction  \\\n",
       "0  20180601    금     4.19로  1080012200     아카데미하우스  국립4.19묘지        상행   \n",
       "\n",
       "   road_length road_type urban_suburb  ...      t14    t15    t16    t17  \\\n",
       "0         1179    보조간선도로           외곽  ...    35.69  40.12  35.62  54.45   \n",
       "\n",
       "     t18    t19    t20    t21    t22    t23  \n",
       "0  47.86  34.41  38.96  31.72  48.95  44.81  \n",
       "\n",
       "[1 rows x 23 columns]"
      ]
     },
     "execution_count": 15,
     "metadata": {},
     "output_type": "execute_result"
    }
   ],
   "source": [
    "car6.head(1)"
   ]
  },
  {
   "cell_type": "markdown",
   "metadata": {},
   "source": [
    "## 2. 공통값 도로 제거 & 공통 링크 id 추출"
   ]
  },
  {
   "cell_type": "code",
   "execution_count": 16,
   "metadata": {},
   "outputs": [
    {
     "data": {
      "text/plain": [
       "Index(['date', 'days', 'road_name', 'link_id', 'start_point', 'end_point',\n",
       "       'direction', 'road_length', 't12', 't13', 't14', 't15', 't16', 't17',\n",
       "       't18', 't19', 't20', 't21', 't22', 't23'],\n",
       "      dtype='object')"
      ]
     },
     "execution_count": 16,
     "metadata": {},
     "output_type": "execute_result"
    }
   ],
   "source": [
    "car2.columns"
   ]
  },
  {
   "cell_type": "code",
   "execution_count": 39,
   "metadata": {},
   "outputs": [
    {
     "name": "stdout",
     "output_type": "stream",
     "text": [
      "original 2 : (133153, 20)\n",
      "after remove : (131416, 20)\n",
      "original 3 : (147478, 20)\n",
      "after remove : (145998, 20)\n",
      "original 5 : (146522, 23)\n",
      "after remove : (145160, 23)\n",
      "original 6 : (141801, 23)\n",
      "after remove : (140575, 23)\n",
      "original 8 : (146070, 24)\n",
      "after remove : (145482, 24)\n",
      "original 11 : (141930, 24)\n",
      "after remove : (140705, 24)\n"
     ]
    }
   ],
   "source": [
    "dupli_col = ['link_id','t12','t13','t14','t15','t16','t17','t18','t19','t20','t21','t22','t23']\n",
    "print('original 2 :',car2.shape)\n",
    "car2 = car2.drop_duplicates(dupli_col,keep=False)\n",
    "print('after remove :',car2.shape)\n",
    "print('original 3 :',car3.shape)\n",
    "car3 = car3.drop_duplicates(dupli_col,keep=False)\n",
    "print('after remove :',car3.shape)\n",
    "print('original 5 :',car5.shape)\n",
    "car5 = car5.drop_duplicates(dupli_col,keep=False)\n",
    "print('after remove :',car5.shape)\n",
    "print('original 6 :',car6.shape)\n",
    "car6 = car6.drop_duplicates(dupli_col,keep=False)\n",
    "print('after remove :',car6.shape)\n",
    "print('original 8 :',car8.shape)\n",
    "car8 = car8.drop_duplicates(dupli_col,keep=False)\n",
    "print('after remove :',car8.shape)\n",
    "print('original 11 :',car11.shape)\n",
    "car11 = car11.drop_duplicates(dupli_col,keep=False)\n",
    "print('after remove :',car11.shape)"
   ]
  },
  {
   "cell_type": "code",
   "execution_count": 40,
   "metadata": {},
   "outputs": [
    {
     "name": "stdout",
     "output_type": "stream",
     "text": [
      "공통 링크아이디 수 : 4699\n"
     ]
    }
   ],
   "source": [
    "common_obs = list(set(car2.link_id) & set(car3.link_id) & set(car5.link_id) & set(car6.link_id) & set(car8.link_id) & set(car11.link_id))\n",
    "print('공통 링크아이디 수 :',len(common_obs))"
   ]
  },
  {
   "cell_type": "code",
   "execution_count": 41,
   "metadata": {},
   "outputs": [],
   "source": [
    "car2 = car2[car2['link_id'].isin(common_obs)]\n",
    "car3 = car3[car3['link_id'].isin(common_obs)]\n",
    "car5 = car5[car5['link_id'].isin(common_obs)]\n",
    "car6 = car6[car6['link_id'].isin(common_obs)]\n",
    "car8 = car8[car8['link_id'].isin(common_obs)]\n",
    "car11 = car11[car11['link_id'].isin(common_obs)]"
   ]
  },
  {
   "cell_type": "code",
   "execution_count": 42,
   "metadata": {},
   "outputs": [
    {
     "data": {
      "text/plain": [
       "Index(['date', 'days', 'road_name', 'link_id', 'start_point', 'end_point',\n",
       "       'direction', 'road_length', 'road_num', 'road_type', 'urban_suburb',\n",
       "       'district', 't12', 't13', 't14', 't15', 't16', 't17', 't18', 't19',\n",
       "       't20', 't21', 't22', 't23'],\n",
       "      dtype='object')"
      ]
     },
     "execution_count": 42,
     "metadata": {},
     "output_type": "execute_result"
    }
   ],
   "source": [
    "car11.columns"
   ]
  },
  {
   "cell_type": "code",
   "execution_count": 43,
   "metadata": {},
   "outputs": [
    {
     "data": {
      "text/plain": [
       "Index(['date', 'days', 'road_name', 'link_id', 'start_point', 'end_point',\n",
       "       'direction', 'road_length', 't12', 't13', 't14', 't15', 't16', 't17',\n",
       "       't18', 't19', 't20', 't21', 't22', 't23'],\n",
       "      dtype='object')"
      ]
     },
     "execution_count": 43,
     "metadata": {},
     "output_type": "execute_result"
    }
   ],
   "source": [
    "car3.columns"
   ]
  },
  {
   "cell_type": "code",
   "execution_count": 44,
   "metadata": {},
   "outputs": [],
   "source": [
    "merge_col = car11[['link_id','road_num', 'road_type','urban_suburb', 'district']]\n",
    "merge_col = merge_col.drop_duplicates(['link_id'], keep='first')\n",
    "\n",
    "car2 = pd.merge(car2,merge_col,on='link_id')\n",
    "car2 = car2[car11.columns]\n",
    "car3 = pd.merge(car3,merge_col,on='link_id')\n",
    "car3 = car3[car11.columns]\n",
    "car5 = pd.merge(car5,merge_col[['link_id','road_num']],on='link_id')\n",
    "car5 = car5[car11.columns]\n",
    "car6 = pd.merge(car6,merge_col[['link_id','road_num']],on='link_id')\n",
    "car6 = car6[car11.columns]"
   ]
  },
  {
   "cell_type": "code",
   "execution_count": 45,
   "metadata": {},
   "outputs": [
    {
     "data": {
      "text/html": [
       "<div>\n",
       "<style scoped>\n",
       "    .dataframe tbody tr th:only-of-type {\n",
       "        vertical-align: middle;\n",
       "    }\n",
       "\n",
       "    .dataframe tbody tr th {\n",
       "        vertical-align: top;\n",
       "    }\n",
       "\n",
       "    .dataframe thead th {\n",
       "        text-align: right;\n",
       "    }\n",
       "</style>\n",
       "<table border=\"1\" class=\"dataframe\">\n",
       "  <thead>\n",
       "    <tr style=\"text-align: right;\">\n",
       "      <th></th>\n",
       "      <th>date</th>\n",
       "      <th>days</th>\n",
       "      <th>road_name</th>\n",
       "      <th>link_id</th>\n",
       "      <th>start_point</th>\n",
       "      <th>end_point</th>\n",
       "      <th>direction</th>\n",
       "      <th>road_length</th>\n",
       "      <th>road_num</th>\n",
       "      <th>road_type</th>\n",
       "      <th>...</th>\n",
       "      <th>t14</th>\n",
       "      <th>t15</th>\n",
       "      <th>t16</th>\n",
       "      <th>t17</th>\n",
       "      <th>t18</th>\n",
       "      <th>t19</th>\n",
       "      <th>t20</th>\n",
       "      <th>t21</th>\n",
       "      <th>t22</th>\n",
       "      <th>t23</th>\n",
       "    </tr>\n",
       "  </thead>\n",
       "  <tbody>\n",
       "    <tr>\n",
       "      <th>0</th>\n",
       "      <td>20180201</td>\n",
       "      <td>목</td>\n",
       "      <td>4.19로</td>\n",
       "      <td>1080012800</td>\n",
       "      <td>국립4.19묘지</td>\n",
       "      <td>국립4.19묘지입구</td>\n",
       "      <td>상행</td>\n",
       "      <td>352</td>\n",
       "      <td>1</td>\n",
       "      <td>보조간선도로</td>\n",
       "      <td>...</td>\n",
       "      <td>12.11</td>\n",
       "      <td>12.49</td>\n",
       "      <td>14.42</td>\n",
       "      <td>14.26</td>\n",
       "      <td>12.57</td>\n",
       "      <td>11.66</td>\n",
       "      <td>13.8</td>\n",
       "      <td>13.62</td>\n",
       "      <td>17.99</td>\n",
       "      <td>13.74</td>\n",
       "    </tr>\n",
       "  </tbody>\n",
       "</table>\n",
       "<p>1 rows × 24 columns</p>\n",
       "</div>"
      ],
      "text/plain": [
       "       date days road_name     link_id start_point   end_point direction  \\\n",
       "0  20180201    목     4.19로  1080012800    국립4.19묘지  국립4.19묘지입구        상행   \n",
       "\n",
       "   road_length  road_num road_type  ...      t14    t15    t16    t17    t18  \\\n",
       "0          352         1    보조간선도로  ...    12.11  12.49  14.42  14.26  12.57   \n",
       "\n",
       "     t19   t20    t21    t22    t23  \n",
       "0  11.66  13.8  13.62  17.99  13.74  \n",
       "\n",
       "[1 rows x 24 columns]"
      ]
     },
     "execution_count": 45,
     "metadata": {},
     "output_type": "execute_result"
    }
   ],
   "source": [
    "car2.head(1)"
   ]
  },
  {
   "cell_type": "code",
   "execution_count": 46,
   "metadata": {},
   "outputs": [
    {
     "data": {
      "text/html": [
       "<div>\n",
       "<style scoped>\n",
       "    .dataframe tbody tr th:only-of-type {\n",
       "        vertical-align: middle;\n",
       "    }\n",
       "\n",
       "    .dataframe tbody tr th {\n",
       "        vertical-align: top;\n",
       "    }\n",
       "\n",
       "    .dataframe thead th {\n",
       "        text-align: right;\n",
       "    }\n",
       "</style>\n",
       "<table border=\"1\" class=\"dataframe\">\n",
       "  <thead>\n",
       "    <tr style=\"text-align: right;\">\n",
       "      <th></th>\n",
       "      <th>date</th>\n",
       "      <th>days</th>\n",
       "      <th>road_name</th>\n",
       "      <th>link_id</th>\n",
       "      <th>start_point</th>\n",
       "      <th>end_point</th>\n",
       "      <th>direction</th>\n",
       "      <th>road_length</th>\n",
       "      <th>road_num</th>\n",
       "      <th>road_type</th>\n",
       "      <th>...</th>\n",
       "      <th>t14</th>\n",
       "      <th>t15</th>\n",
       "      <th>t16</th>\n",
       "      <th>t17</th>\n",
       "      <th>t18</th>\n",
       "      <th>t19</th>\n",
       "      <th>t20</th>\n",
       "      <th>t21</th>\n",
       "      <th>t22</th>\n",
       "      <th>t23</th>\n",
       "    </tr>\n",
       "  </thead>\n",
       "  <tbody>\n",
       "    <tr>\n",
       "      <th>0</th>\n",
       "      <td>20180301</td>\n",
       "      <td>목</td>\n",
       "      <td>4.19로</td>\n",
       "      <td>1080012800</td>\n",
       "      <td>국립4.19묘지</td>\n",
       "      <td>국립4.19묘지입구</td>\n",
       "      <td>상행</td>\n",
       "      <td>352</td>\n",
       "      <td>1</td>\n",
       "      <td>보조간선도로</td>\n",
       "      <td>...</td>\n",
       "      <td>9.71</td>\n",
       "      <td>10.84</td>\n",
       "      <td>12.05</td>\n",
       "      <td>13.41</td>\n",
       "      <td>12.84</td>\n",
       "      <td>14.27</td>\n",
       "      <td>13.19</td>\n",
       "      <td>12.92</td>\n",
       "      <td>16.31</td>\n",
       "      <td>17.11</td>\n",
       "    </tr>\n",
       "  </tbody>\n",
       "</table>\n",
       "<p>1 rows × 24 columns</p>\n",
       "</div>"
      ],
      "text/plain": [
       "       date days road_name     link_id start_point   end_point direction  \\\n",
       "0  20180301    목     4.19로  1080012800    국립4.19묘지  국립4.19묘지입구        상행   \n",
       "\n",
       "   road_length  road_num road_type  ...     t14    t15    t16    t17    t18  \\\n",
       "0          352         1    보조간선도로  ...    9.71  10.84  12.05  13.41  12.84   \n",
       "\n",
       "     t19    t20    t21    t22    t23  \n",
       "0  14.27  13.19  12.92  16.31  17.11  \n",
       "\n",
       "[1 rows x 24 columns]"
      ]
     },
     "execution_count": 46,
     "metadata": {},
     "output_type": "execute_result"
    }
   ],
   "source": [
    "car3.head(1)"
   ]
  },
  {
   "cell_type": "code",
   "execution_count": 49,
   "metadata": {},
   "outputs": [
    {
     "data": {
      "text/html": [
       "<div>\n",
       "<style scoped>\n",
       "    .dataframe tbody tr th:only-of-type {\n",
       "        vertical-align: middle;\n",
       "    }\n",
       "\n",
       "    .dataframe tbody tr th {\n",
       "        vertical-align: top;\n",
       "    }\n",
       "\n",
       "    .dataframe thead th {\n",
       "        text-align: right;\n",
       "    }\n",
       "</style>\n",
       "<table border=\"1\" class=\"dataframe\">\n",
       "  <thead>\n",
       "    <tr style=\"text-align: right;\">\n",
       "      <th></th>\n",
       "      <th>date</th>\n",
       "      <th>days</th>\n",
       "      <th>road_name</th>\n",
       "      <th>link_id</th>\n",
       "      <th>start_point</th>\n",
       "      <th>end_point</th>\n",
       "      <th>direction</th>\n",
       "      <th>road_length</th>\n",
       "      <th>road_num</th>\n",
       "      <th>road_type</th>\n",
       "      <th>urban_suburb</th>\n",
       "      <th>district</th>\n",
       "      <th>t12</th>\n",
       "      <th>t13</th>\n",
       "      <th>t14</th>\n",
       "      <th>t15</th>\n",
       "      <th>t16</th>\n",
       "      <th>t17</th>\n",
       "      <th>t18</th>\n",
       "      <th>t19</th>\n",
       "      <th>t20</th>\n",
       "      <th>t21</th>\n",
       "      <th>t22</th>\n",
       "      <th>t23</th>\n",
       "    </tr>\n",
       "  </thead>\n",
       "  <tbody>\n",
       "    <tr>\n",
       "      <th>1</th>\n",
       "      <td>20181101</td>\n",
       "      <td>목</td>\n",
       "      <td>4.19로</td>\n",
       "      <td>1080012800</td>\n",
       "      <td>국립4.19묘지</td>\n",
       "      <td>국립4.19묘지입구</td>\n",
       "      <td>상행</td>\n",
       "      <td>352</td>\n",
       "      <td>1</td>\n",
       "      <td>보조간선도로</td>\n",
       "      <td>외곽</td>\n",
       "      <td>강북구</td>\n",
       "      <td>20.33</td>\n",
       "      <td>16.67</td>\n",
       "      <td>11.98</td>\n",
       "      <td>5.96</td>\n",
       "      <td>7.49</td>\n",
       "      <td>11.64</td>\n",
       "      <td>13.27</td>\n",
       "      <td>10.35</td>\n",
       "      <td>13.73</td>\n",
       "      <td>13.11</td>\n",
       "      <td>15.42</td>\n",
       "      <td>14.91</td>\n",
       "    </tr>\n",
       "  </tbody>\n",
       "</table>\n",
       "</div>"
      ],
      "text/plain": [
       "       date days road_name     link_id start_point   end_point direction  \\\n",
       "1  20181101    목     4.19로  1080012800    국립4.19묘지  국립4.19묘지입구        상행   \n",
       "\n",
       "   road_length  road_num road_type urban_suburb district    t12    t13    t14  \\\n",
       "1          352         1    보조간선도로           외곽      강북구  20.33  16.67  11.98   \n",
       "\n",
       "    t15   t16    t17    t18    t19    t20    t21    t22    t23  \n",
       "1  5.96  7.49  11.64  13.27  10.35  13.73  13.11  15.42  14.91  "
      ]
     },
     "execution_count": 49,
     "metadata": {},
     "output_type": "execute_result"
    }
   ],
   "source": [
    "pd.set_option('display.max_columns', 500)\n",
    "car11.head(1)"
   ]
  },
  {
   "cell_type": "markdown",
   "metadata": {},
   "source": [
    "## 3. 구 설정\n",
    "- 서서울(서대문구, 마포구, 은평구)"
   ]
  },
  {
   "cell_type": "code",
   "execution_count": 48,
   "metadata": {},
   "outputs": [
    {
     "data": {
      "text/plain": [
       "Index(['date', 'days', 'road_name', 'link_id', 'start_point', 'end_point',\n",
       "       'direction', 'road_length', 'road_num', 'road_type', 'urban_suburb',\n",
       "       'district', 't12', 't13', 't14', 't15', 't16', 't17', 't18', 't19',\n",
       "       't20', 't21', 't22', 't23'],\n",
       "      dtype='object')"
      ]
     },
     "execution_count": 48,
     "metadata": {},
     "output_type": "execute_result"
    }
   ],
   "source": [
    "car2.columns"
   ]
  },
  {
   "cell_type": "code",
   "execution_count": 50,
   "metadata": {},
   "outputs": [],
   "source": [
    "car2 = car2[car2['district'].isin(['서대문구','마포구','은평구'])]\n",
    "car3 = car3[car3['district'].isin(['서대문구','마포구','은평구'])]\n",
    "car5 = car5[car5['district'].isin(['서대문구','마포구','은평구'])]\n",
    "car6 = car6[car6['district'].isin(['서대문구','마포구','은평구'])]\n",
    "car8 = car8[car8['district'].isin(['서대문구','마포구','은평구'])]\n",
    "car11 = car11[car11['district'].isin(['서대문구','마포구','은평구'])]"
   ]
  },
  {
   "cell_type": "code",
   "execution_count": 52,
   "metadata": {},
   "outputs": [
    {
     "name": "stdout",
     "output_type": "stream",
     "text": [
      "공통 링크아이디 수 : 506\n"
     ]
    }
   ],
   "source": [
    "common_obs = list(set(car2.link_id) & set(car3.link_id) & set(car5.link_id) & set(car6.link_id) & set(car8.link_id) & set(car11.link_id))\n",
    "print('공통 링크아이디 수 :',len(common_obs))"
   ]
  },
  {
   "cell_type": "markdown",
   "metadata": {},
   "source": [
    "## 4. car data를 long form으로 만들기(melt)"
   ]
  },
  {
   "cell_type": "code",
   "execution_count": 53,
   "metadata": {},
   "outputs": [
    {
     "name": "stdout",
     "output_type": "stream",
     "text": [
      "['date', 'days', 'road_name', 'link_id', 'start_point', 'end_point', 'direction', 'road_length', 'road_num', 'road_type', 'urban_suburb', 'district']\n"
     ]
    }
   ],
   "source": [
    "print(list(car2.columns[:12]))"
   ]
  },
  {
   "cell_type": "code",
   "execution_count": 54,
   "metadata": {},
   "outputs": [],
   "source": [
    "melt_col = list(car2.columns[:12])\n",
    "car2 = pd.melt(car2, id_vars = melt_col)\n",
    "car3 = pd.melt(car3, id_vars = melt_col)\n",
    "car5 = pd.melt(car5, id_vars = melt_col)\n",
    "car6 = pd.melt(car6, id_vars = melt_col)\n",
    "car8 = pd.melt(car8, id_vars = melt_col)\n",
    "car11 = pd.melt(car11, id_vars = melt_col)"
   ]
  },
  {
   "cell_type": "code",
   "execution_count": 55,
   "metadata": {},
   "outputs": [
    {
     "data": {
      "text/html": [
       "<div>\n",
       "<style scoped>\n",
       "    .dataframe tbody tr th:only-of-type {\n",
       "        vertical-align: middle;\n",
       "    }\n",
       "\n",
       "    .dataframe tbody tr th {\n",
       "        vertical-align: top;\n",
       "    }\n",
       "\n",
       "    .dataframe thead th {\n",
       "        text-align: right;\n",
       "    }\n",
       "</style>\n",
       "<table border=\"1\" class=\"dataframe\">\n",
       "  <thead>\n",
       "    <tr style=\"text-align: right;\">\n",
       "      <th></th>\n",
       "      <th>date</th>\n",
       "      <th>days</th>\n",
       "      <th>road_name</th>\n",
       "      <th>link_id</th>\n",
       "      <th>start_point</th>\n",
       "      <th>end_point</th>\n",
       "      <th>direction</th>\n",
       "      <th>road_length</th>\n",
       "      <th>road_num</th>\n",
       "      <th>road_type</th>\n",
       "      <th>urban_suburb</th>\n",
       "      <th>district</th>\n",
       "      <th>variable</th>\n",
       "      <th>value</th>\n",
       "    </tr>\n",
       "  </thead>\n",
       "  <tbody>\n",
       "    <tr>\n",
       "      <th>0</th>\n",
       "      <td>20180201</td>\n",
       "      <td>목</td>\n",
       "      <td>가양대로</td>\n",
       "      <td>1130029700</td>\n",
       "      <td>수색교</td>\n",
       "      <td>DMC첨단산업센터</td>\n",
       "      <td>상행</td>\n",
       "      <td>344</td>\n",
       "      <td>4</td>\n",
       "      <td>기타도로</td>\n",
       "      <td>외곽</td>\n",
       "      <td>은평구</td>\n",
       "      <td>t12</td>\n",
       "      <td>26.05</td>\n",
       "    </tr>\n",
       "    <tr>\n",
       "      <th>1</th>\n",
       "      <td>20180202</td>\n",
       "      <td>금</td>\n",
       "      <td>가양대로</td>\n",
       "      <td>1130029700</td>\n",
       "      <td>수색교</td>\n",
       "      <td>DMC첨단산업센터</td>\n",
       "      <td>상행</td>\n",
       "      <td>344</td>\n",
       "      <td>4</td>\n",
       "      <td>기타도로</td>\n",
       "      <td>외곽</td>\n",
       "      <td>은평구</td>\n",
       "      <td>t12</td>\n",
       "      <td>24.66</td>\n",
       "    </tr>\n",
       "    <tr>\n",
       "      <th>2</th>\n",
       "      <td>20180203</td>\n",
       "      <td>토</td>\n",
       "      <td>가양대로</td>\n",
       "      <td>1130029700</td>\n",
       "      <td>수색교</td>\n",
       "      <td>DMC첨단산업센터</td>\n",
       "      <td>상행</td>\n",
       "      <td>344</td>\n",
       "      <td>4</td>\n",
       "      <td>기타도로</td>\n",
       "      <td>외곽</td>\n",
       "      <td>은평구</td>\n",
       "      <td>t12</td>\n",
       "      <td>24.91</td>\n",
       "    </tr>\n",
       "  </tbody>\n",
       "</table>\n",
       "</div>"
      ],
      "text/plain": [
       "       date days road_name     link_id start_point  end_point direction  \\\n",
       "0  20180201    목      가양대로  1130029700         수색교  DMC첨단산업센터        상행   \n",
       "1  20180202    금      가양대로  1130029700         수색교  DMC첨단산업센터        상행   \n",
       "2  20180203    토      가양대로  1130029700         수색교  DMC첨단산업센터        상행   \n",
       "\n",
       "   road_length  road_num road_type urban_suburb district variable  value  \n",
       "0          344         4      기타도로           외곽      은평구      t12  26.05  \n",
       "1          344         4      기타도로           외곽      은평구      t12  24.66  \n",
       "2          344         4      기타도로           외곽      은평구      t12  24.91  "
      ]
     },
     "execution_count": 55,
     "metadata": {},
     "output_type": "execute_result"
    }
   ],
   "source": [
    "car2.head(3)"
   ]
  },
  {
   "cell_type": "code",
   "execution_count": null,
   "metadata": {},
   "outputs": [],
   "source": []
  }
 ],
 "metadata": {
  "kernelspec": {
   "display_name": "Python 3",
   "language": "python",
   "name": "python3"
  },
  "language_info": {
   "codemirror_mode": {
    "name": "ipython",
    "version": 3
   },
   "file_extension": ".py",
   "mimetype": "text/x-python",
   "name": "python",
   "nbconvert_exporter": "python",
   "pygments_lexer": "ipython3",
   "version": "3.7.1"
  }
 },
 "nbformat": 4,
 "nbformat_minor": 2
}
